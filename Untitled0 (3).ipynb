{
  "nbformat": 4,
  "nbformat_minor": 0,
  "metadata": {
    "colab": {
      "provenance": []
    },
    "kernelspec": {
      "name": "python3",
      "display_name": "Python 3"
    },
    "language_info": {
      "name": "python"
    }
  },
  "cells": [
    {
      "cell_type": "code",
      "execution_count": 5,
      "metadata": {
        "colab": {
          "base_uri": "https://localhost:8080/"
        },
        "id": "qydk5dZHdDgZ",
        "outputId": "0ca03c6e-4352-47cb-a60f-b1801f22f9ad"
      },
      "outputs": [
        {
          "output_type": "stream",
          "name": "stdout",
          "text": [
            "Package ID: 1, Total Cost: 26.00\n",
            "Package ID: 2, Total Cost: 25.00\n",
            "Package ID: 3, Total Cost: 19.00\n",
            "Package ID: 4, Total Cost: 21.50\n",
            "Package ID: 5, Total Cost: 48.00\n"
          ]
        }
      ],
      "source": [
        "# Sample Data\n",
        "data = [\n",
        "    {'Package ID': 1, 'Weight (kg)': 3, 'Distance (km)': 10, 'Delivery Type': 'Express'},\n",
        "    {'Package ID': 2, 'Weight (kg)': 5, 'Distance (km)': 25, 'Delivery Type': 'Standard'},\n",
        "    {'Package ID': 3, 'Weight (kg)': 2, 'Distance (km)': 5, 'Delivery Type': 'Express'},\n",
        "    {'Package ID': 4, 'Weight (kg)': 6, 'Distance (km)': 15, 'Delivery Type': 'Standard'},\n",
        "    {'Package ID': 5, 'Weight (kg)': 4, 'Distance (km)': 30, 'Delivery Type': 'Express'},\n",
        "]\n",
        "\n",
        "# Cost grid\n",
        "cost_grid = {\n",
        "    'Express': {\n",
        "        'Base Cost': 10,\n",
        "        'Cost per kg': 2,\n",
        "        'Cost per km': 1,\n",
        "    },\n",
        "    'Standard': {\n",
        "        'Base Cost': 5,\n",
        "        'Cost per kg': 1.5,\n",
        "        'Cost per km': 0.5,\n",
        "    }\n",
        "}\n",
        "\n",
        "# Function to calculate the cost for a single package\n",
        "def calculate_package_cost(package):\n",
        "    delivery_type = package['Delivery Type']\n",
        "    base_cost = cost_grid[delivery_type]['Base Cost']\n",
        "    cost_per_kg = cost_grid[delivery_type]['Cost per kg']\n",
        "    cost_per_km = cost_grid[delivery_type]['Cost per km']\n",
        "    weight = package['Weight (kg)']\n",
        "    distance = package['Distance (km)']\n",
        "\n",
        "    total_cost = base_cost + (weight * cost_per_kg) + (distance * cost_per_km)\n",
        "    return total_cost\n",
        "\n",
        "# Calculate the cost for each package and add it to the data\n",
        "for package in data:\n",
        "    package['Total Cost'] = calculate_package_cost(package)\n",
        "\n",
        "# Print the results\n",
        "for package in data:\n",
        "    print(f\"Package ID: {package['Package ID']}, Total Cost: {package['Total Cost']:.2f}\")\n"
      ]
    },
    {
      "cell_type": "code",
      "source": [
        "# Save the results to an output file\n",
        "import csv\n",
        "\n",
        "output_file = 'package_costs.csv'\n",
        "with open(output_file, 'w', newline='') as csvfile:\n",
        "    fieldnames = ['Package ID', 'Weight (kg)', 'Distance (km)', 'Delivery Type', 'Total Cost']\n",
        "    writer = csv.DictWriter(csvfile, fieldnames=fieldnames)\n",
        "\n",
        "    writer.writeheader()\n",
        "    for package in data:\n",
        "        writer.writerow(package)\n",
        "\n",
        "print(f\"Package costs have been calculated and saved to '{output_file}'.\")"
      ],
      "metadata": {
        "colab": {
          "base_uri": "https://localhost:8080/"
        },
        "id": "M9qSnEwziV6c",
        "outputId": "cb31720b-c44a-491e-f785-051ac0a011a1"
      },
      "execution_count": 16,
      "outputs": [
        {
          "output_type": "stream",
          "name": "stdout",
          "text": [
            "Package costs have been calculated and saved to 'package_costs.csv'.\n"
          ]
        }
      ]
    },
    {
      "cell_type": "code",
      "source": [],
      "metadata": {
        "id": "7Az6Wu50wB-8"
      },
      "execution_count": null,
      "outputs": []
    }
  ]
}